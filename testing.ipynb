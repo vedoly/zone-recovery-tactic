{
 "metadata": {
  "language_info": {
   "codemirror_mode": {
    "name": "ipython",
    "version": 3
   },
   "file_extension": ".py",
   "mimetype": "text/x-python",
   "name": "python",
   "nbconvert_exporter": "python",
   "pygments_lexer": "ipython3",
   "version": "3.8.5-final"
  },
  "orig_nbformat": 2,
  "kernelspec": {
   "name": "python3",
   "display_name": "Python 3",
   "language": "python"
  }
 },
 "nbformat": 4,
 "nbformat_minor": 2,
 "cells": [
  {
   "cell_type": "code",
   "execution_count": 3,
   "metadata": {},
   "outputs": [],
   "source": [
    "import pandas as pd\n",
    "from zone_recovery.zone import *"
   ]
  },
  {
   "cell_type": "code",
   "execution_count": 3,
   "metadata": {},
   "outputs": [],
   "source": [
    "test = Zone(1,2,3,4)"
   ]
  },
  {
   "cell_type": "code",
   "execution_count": 94,
   "metadata": {},
   "outputs": [],
   "source": [
    "df  = pd.read_csv('processed_data/BNBUSTD_2020_Processed.csv')"
   ]
  },
  {
   "cell_type": "code",
   "execution_count": 52,
   "metadata": {},
   "outputs": [
    {
     "output_type": "error",
     "ename": "KeyError",
     "evalue": "0",
     "traceback": [
      "\u001b[1;31m---------------------------------------------------------------------------\u001b[0m",
      "\u001b[1;31mKeyError\u001b[0m                                  Traceback (most recent call last)",
      "\u001b[1;32mD:\\anaconda3\\lib\\site-packages\\pandas\\core\\indexes\\base.py\u001b[0m in \u001b[0;36mget_loc\u001b[1;34m(self, key, method, tolerance)\u001b[0m\n\u001b[0;32m   2894\u001b[0m             \u001b[1;32mtry\u001b[0m\u001b[1;33m:\u001b[0m\u001b[1;33m\u001b[0m\u001b[1;33m\u001b[0m\u001b[0m\n\u001b[1;32m-> 2895\u001b[1;33m                 \u001b[1;32mreturn\u001b[0m \u001b[0mself\u001b[0m\u001b[1;33m.\u001b[0m\u001b[0m_engine\u001b[0m\u001b[1;33m.\u001b[0m\u001b[0mget_loc\u001b[0m\u001b[1;33m(\u001b[0m\u001b[0mcasted_key\u001b[0m\u001b[1;33m)\u001b[0m\u001b[1;33m\u001b[0m\u001b[1;33m\u001b[0m\u001b[0m\n\u001b[0m\u001b[0;32m   2896\u001b[0m             \u001b[1;32mexcept\u001b[0m \u001b[0mKeyError\u001b[0m \u001b[1;32mas\u001b[0m \u001b[0merr\u001b[0m\u001b[1;33m:\u001b[0m\u001b[1;33m\u001b[0m\u001b[1;33m\u001b[0m\u001b[0m\n",
      "\u001b[1;32mpandas\\_libs\\index.pyx\u001b[0m in \u001b[0;36mpandas._libs.index.IndexEngine.get_loc\u001b[1;34m()\u001b[0m\n",
      "\u001b[1;32mpandas\\_libs\\index.pyx\u001b[0m in \u001b[0;36mpandas._libs.index.IndexEngine.get_loc\u001b[1;34m()\u001b[0m\n",
      "\u001b[1;32mpandas\\_libs\\hashtable_class_helper.pxi\u001b[0m in \u001b[0;36mpandas._libs.hashtable.PyObjectHashTable.get_item\u001b[1;34m()\u001b[0m\n",
      "\u001b[1;32mpandas\\_libs\\hashtable_class_helper.pxi\u001b[0m in \u001b[0;36mpandas._libs.hashtable.PyObjectHashTable.get_item\u001b[1;34m()\u001b[0m\n",
      "\u001b[1;31mKeyError\u001b[0m: 0",
      "\nThe above exception was the direct cause of the following exception:\n",
      "\u001b[1;31mKeyError\u001b[0m                                  Traceback (most recent call last)",
      "\u001b[1;32m<ipython-input-52-ad11118bc8f3>\u001b[0m in \u001b[0;36m<module>\u001b[1;34m\u001b[0m\n\u001b[1;32m----> 1\u001b[1;33m \u001b[0mdf\u001b[0m\u001b[1;33m[\u001b[0m\u001b[1;36m0\u001b[0m\u001b[1;33m]\u001b[0m\u001b[1;33m\u001b[0m\u001b[1;33m\u001b[0m\u001b[0m\n\u001b[0m",
      "\u001b[1;32mD:\\anaconda3\\lib\\site-packages\\pandas\\core\\frame.py\u001b[0m in \u001b[0;36m__getitem__\u001b[1;34m(self, key)\u001b[0m\n\u001b[0;32m   2904\u001b[0m             \u001b[1;32mif\u001b[0m \u001b[0mself\u001b[0m\u001b[1;33m.\u001b[0m\u001b[0mcolumns\u001b[0m\u001b[1;33m.\u001b[0m\u001b[0mnlevels\u001b[0m \u001b[1;33m>\u001b[0m \u001b[1;36m1\u001b[0m\u001b[1;33m:\u001b[0m\u001b[1;33m\u001b[0m\u001b[1;33m\u001b[0m\u001b[0m\n\u001b[0;32m   2905\u001b[0m                 \u001b[1;32mreturn\u001b[0m \u001b[0mself\u001b[0m\u001b[1;33m.\u001b[0m\u001b[0m_getitem_multilevel\u001b[0m\u001b[1;33m(\u001b[0m\u001b[0mkey\u001b[0m\u001b[1;33m)\u001b[0m\u001b[1;33m\u001b[0m\u001b[1;33m\u001b[0m\u001b[0m\n\u001b[1;32m-> 2906\u001b[1;33m             \u001b[0mindexer\u001b[0m \u001b[1;33m=\u001b[0m \u001b[0mself\u001b[0m\u001b[1;33m.\u001b[0m\u001b[0mcolumns\u001b[0m\u001b[1;33m.\u001b[0m\u001b[0mget_loc\u001b[0m\u001b[1;33m(\u001b[0m\u001b[0mkey\u001b[0m\u001b[1;33m)\u001b[0m\u001b[1;33m\u001b[0m\u001b[1;33m\u001b[0m\u001b[0m\n\u001b[0m\u001b[0;32m   2907\u001b[0m             \u001b[1;32mif\u001b[0m \u001b[0mis_integer\u001b[0m\u001b[1;33m(\u001b[0m\u001b[0mindexer\u001b[0m\u001b[1;33m)\u001b[0m\u001b[1;33m:\u001b[0m\u001b[1;33m\u001b[0m\u001b[1;33m\u001b[0m\u001b[0m\n\u001b[0;32m   2908\u001b[0m                 \u001b[0mindexer\u001b[0m \u001b[1;33m=\u001b[0m \u001b[1;33m[\u001b[0m\u001b[0mindexer\u001b[0m\u001b[1;33m]\u001b[0m\u001b[1;33m\u001b[0m\u001b[1;33m\u001b[0m\u001b[0m\n",
      "\u001b[1;32mD:\\anaconda3\\lib\\site-packages\\pandas\\core\\indexes\\base.py\u001b[0m in \u001b[0;36mget_loc\u001b[1;34m(self, key, method, tolerance)\u001b[0m\n\u001b[0;32m   2895\u001b[0m                 \u001b[1;32mreturn\u001b[0m \u001b[0mself\u001b[0m\u001b[1;33m.\u001b[0m\u001b[0m_engine\u001b[0m\u001b[1;33m.\u001b[0m\u001b[0mget_loc\u001b[0m\u001b[1;33m(\u001b[0m\u001b[0mcasted_key\u001b[0m\u001b[1;33m)\u001b[0m\u001b[1;33m\u001b[0m\u001b[1;33m\u001b[0m\u001b[0m\n\u001b[0;32m   2896\u001b[0m             \u001b[1;32mexcept\u001b[0m \u001b[0mKeyError\u001b[0m \u001b[1;32mas\u001b[0m \u001b[0merr\u001b[0m\u001b[1;33m:\u001b[0m\u001b[1;33m\u001b[0m\u001b[1;33m\u001b[0m\u001b[0m\n\u001b[1;32m-> 2897\u001b[1;33m                 \u001b[1;32mraise\u001b[0m \u001b[0mKeyError\u001b[0m\u001b[1;33m(\u001b[0m\u001b[0mkey\u001b[0m\u001b[1;33m)\u001b[0m \u001b[1;32mfrom\u001b[0m \u001b[0merr\u001b[0m\u001b[1;33m\u001b[0m\u001b[1;33m\u001b[0m\u001b[0m\n\u001b[0m\u001b[0;32m   2898\u001b[0m \u001b[1;33m\u001b[0m\u001b[0m\n\u001b[0;32m   2899\u001b[0m         \u001b[1;32mif\u001b[0m \u001b[0mtolerance\u001b[0m \u001b[1;32mis\u001b[0m \u001b[1;32mnot\u001b[0m \u001b[1;32mNone\u001b[0m\u001b[1;33m:\u001b[0m\u001b[1;33m\u001b[0m\u001b[1;33m\u001b[0m\u001b[0m\n",
      "\u001b[1;31mKeyError\u001b[0m: 0"
     ]
    }
   ],
   "source": [
    "df[0]"
   ]
  },
  {
   "cell_type": "code",
   "execution_count": 55,
   "metadata": {},
   "outputs": [
    {
     "output_type": "stream",
     "name": "stdout",
     "text": [
      "11.1162\n11.117999999999999\n11.1196\n11.1172\n11.1065\n"
     ]
    }
   ],
   "source": [
    "for i,r in df[5:10].iterrows():\n",
    "    print(r.Price + 5)"
   ]
  },
  {
   "cell_type": "code",
   "execution_count": 6,
   "metadata": {},
   "outputs": [
    {
     "output_type": "stream",
     "name": "stdout",
     "text": [
      "0\n1\n2\n3\n4\n5\n6\n7\n8\n9\n"
     ]
    }
   ],
   "source": [
    "for i,row in df[0:10].iterrows():\n",
    "    print(i)"
   ]
  },
  {
   "cell_type": "code",
   "execution_count": 95,
   "metadata": {},
   "outputs": [],
   "source": [
    "import numpy as numpy\n",
    "\n",
    "\n",
    "class Zone:\n",
    "    def __init__(self, entry_price, zone_width, distance):\n",
    "        \"entry_price\"\n",
    "        self.up = entry_price\n",
    "        self.down = entry_price - zone_width\n",
    "        self.above_target = entry_price + distance\n",
    "        self.below_target = entry_price - zone_width - distance\n",
    "\n",
    "    def calculateProfit(self, t, df, money):\n",
    "        state = 'Sell'\n",
    "        first_money = money\n",
    "        buy_cost = 0\n",
    "        sell_cost = 0\n",
    "\n",
    "        buy_unit = 0\n",
    "        sell_unit = 0\n",
    "        alpha = 1\n",
    "\n",
    "        temp_money = 0\n",
    "\n",
    "        for i, row in df.iterrows():\n",
    "\n",
    "            if row.Price > buy_cost and state == 'Buy':\n",
    "                buy_cost += 50 * alpha\n",
    "                alpha *= 2\n",
    "                money -= buy_cost\n",
    "                buy_unit += buy_cost / row.Price\n",
    "                state = 'Sell'\n",
    "                print('Buy', buy_cost)\n",
    "\n",
    "            if row.Price > sell_cost and state == 'Sell':\n",
    "                sell_cost += 50 * alpha\n",
    "                temp_money += sell_cost\n",
    "\n",
    "                alpha *= 2\n",
    "                money -= sell_cost\n",
    "                sell_unit += sell_cost / row.Price\n",
    "                state = 'Buy'\n",
    "                print('Sell', sell_cost)\n",
    "\n",
    "            if row.Price > self.above_target and state == 'Sell':\n",
    "                buy_cost = 0\n",
    "                money += buy_unit * row.Price\n",
    "\n",
    "                state = 'Buy'\n",
    "                print('Close Buy', buy_unit * row.Price)\n",
    "                buy_unit = 0\n",
    "                alpha = 1\n",
    "\n",
    "            if row.Price < self.below_target and state == 'Buy':\n",
    "                sell_cost = 0\n",
    "                debt = sell_unit * row.Price\n",
    "                money += temp_money - debt\n",
    "                sell_unit = 0\n",
    "                state = 'Sell'\n",
    "                print('Close Sell', temp_money - debt)\n",
    "                alpha = 1\n",
    "\n",
    "        return money - first_money\n",
    "\n",
    "    def monitorZone(self):\n",
    "        return self.up, self.down, self.above_target, self.below_target\n"
   ]
  },
  {
   "cell_type": "code",
   "execution_count": 40,
   "metadata": {},
   "outputs": [],
   "source": [
    "first_price = df.iloc[0].Price"
   ]
  },
  {
   "cell_type": "code",
   "execution_count": 41,
   "metadata": {},
   "outputs": [
    {
     "output_type": "execute_result",
     "data": {
      "text/plain": [
       "6.1222"
      ]
     },
     "metadata": {},
     "execution_count": 41
    }
   ],
   "source": [
    "first_price"
   ]
  },
  {
   "cell_type": "code",
   "execution_count": null,
   "metadata": {},
   "outputs": [],
   "source": []
  },
  {
   "cell_type": "code",
   "execution_count": 14,
   "metadata": {},
   "outputs": [],
   "source": [
    "z = Zone(1,2,3)"
   ]
  },
  {
   "cell_type": "code",
   "execution_count": 15,
   "metadata": {},
   "outputs": [
    {
     "output_type": "execute_result",
     "data": {
      "text/plain": [
       "(1, -1, 4, -4)"
      ]
     },
     "metadata": {},
     "execution_count": 15
    }
   ],
   "source": [
    "z.monitorZone()"
   ]
  },
  {
   "cell_type": "code",
   "execution_count": 84,
   "metadata": {},
   "outputs": [],
   "source": [
    "def makeDecision(prev_price, current_price, zone: Zone , state : str):\n",
    "\n",
    "    if (prev_price > zone.up and current_price < zone.up or current_price == zone.up) and state == 'w8 4 Buy':\n",
    "        return 'Open Buy', 'w8 4 Sell'\n",
    "\n",
    "    if (prev_price < zone.down and current_price > zone.down or current_price == zone.down) and state == 'w8 4 Sell':\n",
    "        return 'Open Sell', 'w8 4 Buy'\n",
    "\n",
    "    if (prev_price < zone.above_target and current_price > zone.above_target or current_price == zone.above_target) and state == 'w8 4 Sell':\n",
    "        return 'Close Buy', 'w8 4 Buy'\n",
    "\n",
    "    if (prev_price > zone.below_target and current_price < zone.below_target or current_price == zone.below_target) and state == 'w8 4 Buy':\n",
    "        return 'Close Sell', 'w8 4 Sell'\n",
    "\n",
    "    return 'Steady', state\n",
    "\n"
   ]
  },
  {
   "cell_type": "code",
   "execution_count": 119,
   "metadata": {},
   "outputs": [],
   "source": [
    "def simulation(df,limit=4,alpha=2,money=1000):\n",
    "\n",
    "\n",
    "    state = 'w8 4 Sell'\n",
    "    action = 'Open Buy'\n",
    "    first_money = money\n",
    "    temp_money = 0\n",
    "    buy_cost =  1 \n",
    "    sell_cost = 0\n",
    "    \n",
    "    sell_unit = 0\n",
    "    \n",
    "    first_price = df.iloc[0].Price\n",
    "    prev_price = first_price\n",
    "    buy_unit = buy_cost / first_price\n",
    "\n",
    "    money -= buy_cost\n",
    "    print(action,first_price,money,1,0)\n",
    "\n",
    "    zone = Zone(first_price,first_price * 0.02, first_price * 0.08)\n",
    "\n",
    "    buy_hold = 1\n",
    "    sell_hold = 0\n",
    "    \n",
    "    for i,row in df[1:].iterrows():\n",
    "        \n",
    "        current_price = row.Price\n",
    "        action, state = makeDecision(prev_price, current_price,zone,state)\n",
    "\n",
    "        if alpha > 16:\n",
    "\n",
    "            buy_cost = 0\n",
    "            money += buy_unit * row.Price\n",
    "            buy_unit = 0\n",
    "          \n",
    "\n",
    "            sell_cost = 0\n",
    "            debt = sell_unit * row.Price\n",
    "            money += temp_money - debt\n",
    "            sell_unit = 0\n",
    "            buy_hold,sell_hold = 0,0\n",
    "            alpha = 1\n",
    "            temp_money = 0\n",
    "            action = 'Cut Loss'\n",
    "    \n",
    "        \n",
    "        if action == 'Open Buy':\n",
    "            buy_cost += 1 * alpha\n",
    "            buy_hold+= alpha\n",
    "            alpha *= 2\n",
    "            money -= buy_cost\n",
    "            buy_unit += buy_cost / row.Price\n",
    "            \n",
    "            # state = 'Sell'\n",
    "            # print('Open Buy', buy_cost, row.Price,money)\n",
    "            \n",
    "\n",
    "        if action == 'Open Sell':\n",
    "            sell_cost += 1 * alpha\n",
    "            sell_hold+=  alpha\n",
    "            temp_money += sell_cost\n",
    "            alpha *= 2\n",
    "            money -= sell_cost\n",
    "            sell_unit += sell_cost / row.Price\n",
    "         \n",
    "            # state = 'Buy'\n",
    "            # print('Open Sell', sell_cost,money)\n",
    "\n",
    "\n",
    "        if action == 'Close Buy':\n",
    "            \n",
    "\n",
    "            buy_cost = 0\n",
    "            money += buy_unit * row.Price\n",
    "\n",
    "            # state = 'Buy'\n",
    "            # print('Close Buy', buy_unit * row.Price,money)\n",
    "            buy_hold = 0\n",
    "            buy_unit = 0\n",
    "            alpha = 1\n",
    "            \n",
    "\n",
    "        if action == 'Close Sell':\n",
    "            \n",
    "            \n",
    "            sell_cost = 0\n",
    "            debt = sell_unit * row.Price\n",
    "            print(temp_money,debt)\n",
    "            money += 2*temp_money - debt\n",
    "            sell_unit = 0\n",
    "            sell_hold = 0\n",
    "            temp_money = 0\n",
    "            # state = 'Sell'\n",
    "            # print('Close Sell', temp_money - debt,money)\n",
    "            alpha = 1\n",
    "\n",
    "        if sell_unit == 0 and buy_unit == 0:\n",
    "            zone = Zone(current_price,current_price* 0.02, current_price* 0.08)\n",
    "\n",
    "\n",
    "\n",
    "        if(action != 'Steady'):\n",
    "            print(action,current_price,money,buy_hold,sell_hold)\n",
    "\n",
    "        prev_price = current_price\n",
    "    print(money-first_money)\n",
    "\n",
    "\n",
    "\n"
   ]
  },
  {
   "cell_type": "code",
   "execution_count": null,
   "metadata": {},
   "outputs": [],
   "source": []
  },
  {
   "cell_type": "code",
   "execution_count": 26,
   "metadata": {},
   "outputs": [],
   "source": [
    "test_zone = Zone(10,5,5)"
   ]
  },
  {
   "cell_type": "code",
   "execution_count": 27,
   "metadata": {},
   "outputs": [
    {
     "output_type": "execute_result",
     "data": {
      "text/plain": [
       "(10, 5, 15, 0)"
      ]
     },
     "metadata": {},
     "execution_count": 27
    }
   ],
   "source": [
    "test_zone.monitorZone()"
   ]
  },
  {
   "cell_type": "code",
   "execution_count": 47,
   "metadata": {},
   "outputs": [
    {
     "output_type": "execute_result",
     "data": {
      "text/plain": [
       "('Steady', 'w8 4 Buy')"
      ]
     },
     "metadata": {},
     "execution_count": 47
    }
   ],
   "source": [
    "makeDecision(-2,-1,test_zone,'w8 4 Buy')"
   ]
  },
  {
   "cell_type": "code",
   "execution_count": 113,
   "metadata": {},
   "outputs": [],
   "source": [
    "df4 = df[ df['Minute']% == 0]"
   ]
  },
  {
   "cell_type": "code",
   "execution_count": 120,
   "metadata": {
    "tags": []
   },
   "outputs": [
    {
     "output_type": "stream",
     "name": "stdout",
     "text": [
      "Open Buy 13.8477 999 1 0\n",
      "Open Sell 13.5912 997 1 2\n",
      "Open Buy 13.8474 992 5 2\n",
      "Close Buy 14.9595 998.481843227876 0 2\n",
      "Open Buy 13.6509 997.481843227876 1 2\n",
      "Open Sell 13.5807 993.481843227876 1 4\n",
      "Open Buy 13.8 988.481843227876 5 4\n",
      "Open Sell 13.5897 976.481843227876 5 12\n",
      "Open Buy 13.8386 955.481843227876 21 12\n",
      "Cut Loss 13.843 982.1801927669184 0 0\n",
      "-17.819807233081633\n"
     ]
    }
   ],
   "source": [
    "simulation(df4)"
   ]
  },
  {
   "cell_type": "code",
   "execution_count": null,
   "metadata": {},
   "outputs": [],
   "source": []
  }
 ]
}
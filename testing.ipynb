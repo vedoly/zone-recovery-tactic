{
 "metadata": {
  "language_info": {
   "codemirror_mode": {
    "name": "ipython",
    "version": 3
   },
   "file_extension": ".py",
   "mimetype": "text/x-python",
   "name": "python",
   "nbconvert_exporter": "python",
   "pygments_lexer": "ipython3",
   "version": "3.8.5-final"
  },
  "orig_nbformat": 2,
  "kernelspec": {
   "name": "python3",
   "display_name": "Python 3",
   "language": "python"
  }
 },
 "nbformat": 4,
 "nbformat_minor": 2,
 "cells": [
  {
   "cell_type": "code",
   "execution_count": 3,
   "metadata": {},
   "outputs": [],
   "source": [
    "import pandas as pd\n",
    "from zone_recovery.zone import *"
   ]
  },
  {
   "cell_type": "code",
   "execution_count": 3,
   "metadata": {},
   "outputs": [],
   "source": [
    "test = Zone(1,2,3,4)"
   ]
  },
  {
   "cell_type": "code",
   "execution_count": 49,
   "metadata": {},
   "outputs": [],
   "source": [
    "df  = pd.read_csv('processed_data/BNBUSTD_2018_Processed.csv')"
   ]
  },
  {
   "cell_type": "code",
   "execution_count": 52,
   "metadata": {},
   "outputs": [
    {
     "output_type": "error",
     "ename": "KeyError",
     "evalue": "0",
     "traceback": [
      "\u001b[1;31m---------------------------------------------------------------------------\u001b[0m",
      "\u001b[1;31mKeyError\u001b[0m                                  Traceback (most recent call last)",
      "\u001b[1;32mD:\\anaconda3\\lib\\site-packages\\pandas\\core\\indexes\\base.py\u001b[0m in \u001b[0;36mget_loc\u001b[1;34m(self, key, method, tolerance)\u001b[0m\n\u001b[0;32m   2894\u001b[0m             \u001b[1;32mtry\u001b[0m\u001b[1;33m:\u001b[0m\u001b[1;33m\u001b[0m\u001b[1;33m\u001b[0m\u001b[0m\n\u001b[1;32m-> 2895\u001b[1;33m                 \u001b[1;32mreturn\u001b[0m \u001b[0mself\u001b[0m\u001b[1;33m.\u001b[0m\u001b[0m_engine\u001b[0m\u001b[1;33m.\u001b[0m\u001b[0mget_loc\u001b[0m\u001b[1;33m(\u001b[0m\u001b[0mcasted_key\u001b[0m\u001b[1;33m)\u001b[0m\u001b[1;33m\u001b[0m\u001b[1;33m\u001b[0m\u001b[0m\n\u001b[0m\u001b[0;32m   2896\u001b[0m             \u001b[1;32mexcept\u001b[0m \u001b[0mKeyError\u001b[0m \u001b[1;32mas\u001b[0m \u001b[0merr\u001b[0m\u001b[1;33m:\u001b[0m\u001b[1;33m\u001b[0m\u001b[1;33m\u001b[0m\u001b[0m\n",
      "\u001b[1;32mpandas\\_libs\\index.pyx\u001b[0m in \u001b[0;36mpandas._libs.index.IndexEngine.get_loc\u001b[1;34m()\u001b[0m\n",
      "\u001b[1;32mpandas\\_libs\\index.pyx\u001b[0m in \u001b[0;36mpandas._libs.index.IndexEngine.get_loc\u001b[1;34m()\u001b[0m\n",
      "\u001b[1;32mpandas\\_libs\\hashtable_class_helper.pxi\u001b[0m in \u001b[0;36mpandas._libs.hashtable.PyObjectHashTable.get_item\u001b[1;34m()\u001b[0m\n",
      "\u001b[1;32mpandas\\_libs\\hashtable_class_helper.pxi\u001b[0m in \u001b[0;36mpandas._libs.hashtable.PyObjectHashTable.get_item\u001b[1;34m()\u001b[0m\n",
      "\u001b[1;31mKeyError\u001b[0m: 0",
      "\nThe above exception was the direct cause of the following exception:\n",
      "\u001b[1;31mKeyError\u001b[0m                                  Traceback (most recent call last)",
      "\u001b[1;32m<ipython-input-52-ad11118bc8f3>\u001b[0m in \u001b[0;36m<module>\u001b[1;34m\u001b[0m\n\u001b[1;32m----> 1\u001b[1;33m \u001b[0mdf\u001b[0m\u001b[1;33m[\u001b[0m\u001b[1;36m0\u001b[0m\u001b[1;33m]\u001b[0m\u001b[1;33m\u001b[0m\u001b[1;33m\u001b[0m\u001b[0m\n\u001b[0m",
      "\u001b[1;32mD:\\anaconda3\\lib\\site-packages\\pandas\\core\\frame.py\u001b[0m in \u001b[0;36m__getitem__\u001b[1;34m(self, key)\u001b[0m\n\u001b[0;32m   2904\u001b[0m             \u001b[1;32mif\u001b[0m \u001b[0mself\u001b[0m\u001b[1;33m.\u001b[0m\u001b[0mcolumns\u001b[0m\u001b[1;33m.\u001b[0m\u001b[0mnlevels\u001b[0m \u001b[1;33m>\u001b[0m \u001b[1;36m1\u001b[0m\u001b[1;33m:\u001b[0m\u001b[1;33m\u001b[0m\u001b[1;33m\u001b[0m\u001b[0m\n\u001b[0;32m   2905\u001b[0m                 \u001b[1;32mreturn\u001b[0m \u001b[0mself\u001b[0m\u001b[1;33m.\u001b[0m\u001b[0m_getitem_multilevel\u001b[0m\u001b[1;33m(\u001b[0m\u001b[0mkey\u001b[0m\u001b[1;33m)\u001b[0m\u001b[1;33m\u001b[0m\u001b[1;33m\u001b[0m\u001b[0m\n\u001b[1;32m-> 2906\u001b[1;33m             \u001b[0mindexer\u001b[0m \u001b[1;33m=\u001b[0m \u001b[0mself\u001b[0m\u001b[1;33m.\u001b[0m\u001b[0mcolumns\u001b[0m\u001b[1;33m.\u001b[0m\u001b[0mget_loc\u001b[0m\u001b[1;33m(\u001b[0m\u001b[0mkey\u001b[0m\u001b[1;33m)\u001b[0m\u001b[1;33m\u001b[0m\u001b[1;33m\u001b[0m\u001b[0m\n\u001b[0m\u001b[0;32m   2907\u001b[0m             \u001b[1;32mif\u001b[0m \u001b[0mis_integer\u001b[0m\u001b[1;33m(\u001b[0m\u001b[0mindexer\u001b[0m\u001b[1;33m)\u001b[0m\u001b[1;33m:\u001b[0m\u001b[1;33m\u001b[0m\u001b[1;33m\u001b[0m\u001b[0m\n\u001b[0;32m   2908\u001b[0m                 \u001b[0mindexer\u001b[0m \u001b[1;33m=\u001b[0m \u001b[1;33m[\u001b[0m\u001b[0mindexer\u001b[0m\u001b[1;33m]\u001b[0m\u001b[1;33m\u001b[0m\u001b[1;33m\u001b[0m\u001b[0m\n",
      "\u001b[1;32mD:\\anaconda3\\lib\\site-packages\\pandas\\core\\indexes\\base.py\u001b[0m in \u001b[0;36mget_loc\u001b[1;34m(self, key, method, tolerance)\u001b[0m\n\u001b[0;32m   2895\u001b[0m                 \u001b[1;32mreturn\u001b[0m \u001b[0mself\u001b[0m\u001b[1;33m.\u001b[0m\u001b[0m_engine\u001b[0m\u001b[1;33m.\u001b[0m\u001b[0mget_loc\u001b[0m\u001b[1;33m(\u001b[0m\u001b[0mcasted_key\u001b[0m\u001b[1;33m)\u001b[0m\u001b[1;33m\u001b[0m\u001b[1;33m\u001b[0m\u001b[0m\n\u001b[0;32m   2896\u001b[0m             \u001b[1;32mexcept\u001b[0m \u001b[0mKeyError\u001b[0m \u001b[1;32mas\u001b[0m \u001b[0merr\u001b[0m\u001b[1;33m:\u001b[0m\u001b[1;33m\u001b[0m\u001b[1;33m\u001b[0m\u001b[0m\n\u001b[1;32m-> 2897\u001b[1;33m                 \u001b[1;32mraise\u001b[0m \u001b[0mKeyError\u001b[0m\u001b[1;33m(\u001b[0m\u001b[0mkey\u001b[0m\u001b[1;33m)\u001b[0m \u001b[1;32mfrom\u001b[0m \u001b[0merr\u001b[0m\u001b[1;33m\u001b[0m\u001b[1;33m\u001b[0m\u001b[0m\n\u001b[0m\u001b[0;32m   2898\u001b[0m \u001b[1;33m\u001b[0m\u001b[0m\n\u001b[0;32m   2899\u001b[0m         \u001b[1;32mif\u001b[0m \u001b[0mtolerance\u001b[0m \u001b[1;32mis\u001b[0m \u001b[1;32mnot\u001b[0m \u001b[1;32mNone\u001b[0m\u001b[1;33m:\u001b[0m\u001b[1;33m\u001b[0m\u001b[1;33m\u001b[0m\u001b[0m\n",
      "\u001b[1;31mKeyError\u001b[0m: 0"
     ]
    }
   ],
   "source": [
    "df[0]"
   ]
  },
  {
   "cell_type": "code",
   "execution_count": 55,
   "metadata": {},
   "outputs": [
    {
     "output_type": "stream",
     "name": "stdout",
     "text": [
      "11.1162\n11.117999999999999\n11.1196\n11.1172\n11.1065\n"
     ]
    }
   ],
   "source": [
    "for i,r in df[5:10].iterrows():\n",
    "    print(r.Price + 5)"
   ]
  },
  {
   "cell_type": "code",
   "execution_count": 6,
   "metadata": {},
   "outputs": [
    {
     "output_type": "stream",
     "name": "stdout",
     "text": [
      "0\n1\n2\n3\n4\n5\n6\n7\n8\n9\n"
     ]
    }
   ],
   "source": [
    "for i,row in df[0:10].iterrows():\n",
    "    print(i)"
   ]
  },
  {
   "cell_type": "code",
   "execution_count": 12,
   "metadata": {},
   "outputs": [],
   "source": [
    "import numpy as numpy\n",
    "\n",
    "\n",
    "class Zone:\n",
    "    def __init__(self, entry_price, zone_width, distance):\n",
    "        \"entry_price\"\n",
    "        self.up = entry_price\n",
    "        self.down = entry_price - zone_width\n",
    "        self.above_target = entry_price + distance\n",
    "        self.below_target = entry_price - zone_width - distance\n",
    "\n",
    "    def calculateProfit(self, t, df, money):\n",
    "        state = 'Sell'\n",
    "        first_money = money\n",
    "        buy_cost = 0\n",
    "        sell_cost = 0\n",
    "\n",
    "        buy_unit = 0\n",
    "        sell_unit = 0\n",
    "        alpha = 1\n",
    "\n",
    "        temp_money = 0\n",
    "\n",
    "        for i, row in df.iterrows():\n",
    "\n",
    "            if row.Price > buy_cost and state == 'Buy':\n",
    "                buy_cost += 50 * alpha\n",
    "                alpha *= 2\n",
    "                money -= buy_cost\n",
    "                buy_unit += buy_cost / row.Price\n",
    "                state = 'Sell'\n",
    "                print('Buy', buy_cost)\n",
    "\n",
    "            if row.Price > sell_cost and state == 'Sell':\n",
    "                sell_cost += 50 * alpha\n",
    "                temp_money += sell_cost\n",
    "\n",
    "                alpha *= 2\n",
    "                money -= sell_cost\n",
    "                sell_unit += sell_cost / row.Price\n",
    "                state = 'Buy'\n",
    "                print('Sell', sell_cost)\n",
    "\n",
    "            if row.Price > self.above_target and state == 'Sell':\n",
    "                buy_cost = 0\n",
    "                money += buy_unit * row.Price\n",
    "\n",
    "                state = 'Buy'\n",
    "                print('Close Buy', buy_unit * row.Price)\n",
    "                buy_unit = 0\n",
    "                alpha = 1\n",
    "\n",
    "            if row.Price < self.below_target and state == 'Buy':\n",
    "                sell_cost = 0\n",
    "                debt = sell_unit * row.Price\n",
    "                money += temp_money - debt\n",
    "                sell_unit = 0\n",
    "                state = 'Sell'\n",
    "                print('Close Sell', temp_money - debt)\n",
    "                alpha = 1\n",
    "\n",
    "        return money - first_money\n",
    "\n",
    "    def monitorZone(self):\n",
    "        return self.up, self.down, self.above_target, self.below_target\n"
   ]
  },
  {
   "cell_type": "code",
   "execution_count": 40,
   "metadata": {},
   "outputs": [],
   "source": [
    "first_price = df.iloc[0].Price"
   ]
  },
  {
   "cell_type": "code",
   "execution_count": 41,
   "metadata": {},
   "outputs": [
    {
     "output_type": "execute_result",
     "data": {
      "text/plain": [
       "6.1222"
      ]
     },
     "metadata": {},
     "execution_count": 41
    }
   ],
   "source": [
    "first_price"
   ]
  },
  {
   "cell_type": "code",
   "execution_count": null,
   "metadata": {},
   "outputs": [],
   "source": []
  },
  {
   "cell_type": "code",
   "execution_count": 14,
   "metadata": {},
   "outputs": [],
   "source": [
    "z = Zone(1,2,3)"
   ]
  },
  {
   "cell_type": "code",
   "execution_count": 15,
   "metadata": {},
   "outputs": [
    {
     "output_type": "execute_result",
     "data": {
      "text/plain": [
       "(1, -1, 4, -4)"
      ]
     },
     "metadata": {},
     "execution_count": 15
    }
   ],
   "source": [
    "z.monitorZone()"
   ]
  },
  {
   "cell_type": "code",
   "execution_count": 5,
   "metadata": {},
   "outputs": [],
   "source": [
    "def makeDecision(prev_price, current_price, zone: Zone , state : str):\n",
    "\n",
    "    if (prev_price > zone.up and current_price < zone.up or current_price == zone.up) and state == 'w8 4 Buy':\n",
    "        return 'Open Buy', 'w8 4 Sell'\n",
    "\n",
    "    if (prev_price < zone.down and current_price > zone.down or current_price == zone.down) and state == 'w8 4 Sell':\n",
    "        return 'Open Sell', 'w8 4 Buy'\n",
    "\n",
    "    if (prev_price < zone.above_target and current_price > zone.above_target or current_price == zone.above_target) and state == 'w8 4 Sell':\n",
    "        return 'Close Buy', 'w8 4 Buy'\n",
    "\n",
    "    if (prev_price > zone.below_target and current_price < zone.below_target or current_price == zone.below_target) and state == 'w8 4 Buy':\n",
    "        return 'Close Sell', 'w8 4 Sell'\n",
    "\n",
    "    return 'Steady', state\n",
    "\n"
   ]
  },
  {
   "cell_type": "code",
   "execution_count": 43,
   "metadata": {},
   "outputs": [],
   "source": [
    "def simulation(df,limit=4,alpha=2,money=1000):\n",
    "\n",
    "\n",
    "    state = 'w8 4 Sell'\n",
    "    action = 'Open Buy'\n",
    "    first_money = money\n",
    "    temp_money = 0\n",
    "    buy_cost =  1 \n",
    "    sell_cost = 0\n",
    "    \n",
    "    sell_unit = 0\n",
    "    \n",
    "    first_price = df.iloc[0].Price\n",
    "    prev_price = first_price\n",
    "    buy_unit = buy_cost / first_price\n",
    "\n",
    "    money -= buy_cost\n",
    "    print(action,first_price,money,1,0)\n",
    "\n",
    "    zone = Zone(first_price,first_price * 0.01, first_price * 0.04)\n",
    "\n",
    "    buy_hold = 1\n",
    "    sell_hold = 0\n",
    "    \n",
    "    for i,row in df[1:].iterrows():\n",
    "        \n",
    "        current_price = row.Price\n",
    "        action, state = makeDecision(prev_price, current_price,zone,state)\n",
    "\n",
    "        if alpha > 8:\n",
    "\n",
    "            buy_cost = 0\n",
    "            money += buy_unit * row.Price\n",
    "            buy_unit = 0\n",
    "          \n",
    "\n",
    "            sell_cost = 0\n",
    "            debt = sell_unit * row.Price\n",
    "            money += temp_money - debt\n",
    "            sell_unit = 0\n",
    "            buy_hold,sell_hold = 0,0\n",
    "            alpha = 1\n",
    "            action = 'Cut Loss'\n",
    "    \n",
    "        \n",
    "        if action == 'Open Buy':\n",
    "            buy_cost += 1 * alpha\n",
    "            buy_hold+= alpha\n",
    "            alpha *= 2\n",
    "            money -= buy_cost\n",
    "            buy_unit += buy_cost / row.Price\n",
    "            \n",
    "            # state = 'Sell'\n",
    "            # print('Open Buy', buy_cost, row.Price,money)\n",
    "            \n",
    "\n",
    "        if action == 'Open Sell':\n",
    "            sell_cost += 1 * alpha\n",
    "            sell_hold+=  alpha\n",
    "            temp_money += sell_cost\n",
    "            alpha *= 2\n",
    "            money -= sell_cost\n",
    "            sell_unit += sell_cost / row.Price\n",
    "         \n",
    "            # state = 'Buy'\n",
    "            # print('Open Sell', sell_cost,money)\n",
    "\n",
    "\n",
    "        if action == 'Close Buy':\n",
    "            \n",
    "\n",
    "            buy_cost = 0\n",
    "            money += buy_unit * row.Price\n",
    "\n",
    "            # state = 'Buy'\n",
    "            # print('Close Buy', buy_unit * row.Price,money)\n",
    "            buy_hold = 0\n",
    "            buy_unit = 0\n",
    "            alpha = 1\n",
    "            \n",
    "\n",
    "        if action == 'Close Sell':\n",
    "            \n",
    "            \n",
    "            sell_cost = 0\n",
    "            debt = sell_unit * row.Price\n",
    "            # print(temp_money,debt)\n",
    "            money += 2*temp_money - debt\n",
    "            sell_unit = 0\n",
    "            sell_hold = 0\n",
    "            # state = 'Sell'\n",
    "            # print('Close Sell', temp_money - debt,money)\n",
    "            alpha = 1\n",
    "\n",
    "        if sell_unit == 0 and buy_unit == 0:\n",
    "            zone = Zone(current_price,current_price* 0.01, current_price* 0.04)\n",
    "\n",
    "\n",
    "\n",
    "        if(action != 'Steady'):\n",
    "            print(action,current_price,money,buy_hold,sell_hold)\n",
    "\n",
    "        prev_price = current_price\n",
    "    print(money-first_money)\n",
    "\n",
    "\n",
    "\n"
   ]
  },
  {
   "cell_type": "code",
   "execution_count": null,
   "metadata": {},
   "outputs": [],
   "source": []
  },
  {
   "cell_type": "code",
   "execution_count": 26,
   "metadata": {},
   "outputs": [],
   "source": [
    "test_zone = Zone(10,5,5)"
   ]
  },
  {
   "cell_type": "code",
   "execution_count": 27,
   "metadata": {},
   "outputs": [
    {
     "output_type": "execute_result",
     "data": {
      "text/plain": [
       "(10, 5, 15, 0)"
      ]
     },
     "metadata": {},
     "execution_count": 27
    }
   ],
   "source": [
    "test_zone.monitorZone()"
   ]
  },
  {
   "cell_type": "code",
   "execution_count": 47,
   "metadata": {},
   "outputs": [
    {
     "output_type": "execute_result",
     "data": {
      "text/plain": [
       "('Steady', 'w8 4 Buy')"
      ]
     },
     "metadata": {},
     "execution_count": 47
    }
   ],
   "source": [
    "makeDecision(-2,-1,test_zone,'w8 4 Buy')"
   ]
  },
  {
   "cell_type": "code",
   "execution_count": null,
   "metadata": {},
   "outputs": [],
   "source": []
  },
  {
   "cell_type": "code",
   "execution_count": 50,
   "metadata": {
    "tags": []
   },
   "outputs": [
    {
     "output_type": "stream",
     "name": "stdout",
     "text": [
      "Open Buy 8.3959 999 1 0\n",
      "Open Sell 8.3147 997 1 2\n",
      "Open Buy 8.38 992 5 2\n",
      "Open Sell 8.3125 982 5 10\n",
      "Cut Loss 8.3017 987.958181334042 0 0\n",
      "Open Buy 8.3244 986.958181334042 1 0\n",
      "Close Buy 8.66 987.9984965519557 0 0\n",
      "Open Buy 8.65 986.9984965519557 1 0\n",
      "Open Sell 8.6039 984.9984965519557 1 2\n",
      "Close Sell 8.2019 1011.0919425473763 1 0\n",
      "Open Sell 8.5722 1010.0919425473763 1 1\n",
      "Close Sell 8.1574 1039.1403315257016 1 0\n",
      "Open Sell 8.58 1038.1403315257016 1 1\n",
      "Open Buy 8.65 1035.1403315257016 3 1\n",
      "Open Sell 8.6 1030.1403315257016 3 5\n",
      "Close Sell 8.2101 1066.4101294603252 3 0\n",
      "Open Sell 8.581 1065.4101294603252 3 1\n",
      "Open Buy 8.65 1060.4101294603252 5 1\n",
      "Open Sell 8.575 1055.4101294603252 5 5\n",
      "Open Buy 8.6289 1042.4101294603252 13 5\n",
      "Cut Loss 8.6291 1085.351534511815 0 0\n",
      "Close Buy 11.7872 1085.351534511815 0 0\n",
      "Open Buy 11.33 1084.351534511815 1 0\n",
      "Open Sell 11.2914 1082.351534511815 1 2\n",
      "Close Sell 10.74 1138.4492017629973 1 0\n",
      "Open Sell 11.23 1137.4492017629973 1 1\n",
      "Open Buy 10.2801 1134.4492017629973 3 1\n",
      "Open Sell 11.4 1129.4492017629973 3 5\n",
      "Open Buy 11.33 1118.4492017629973 11 5\n",
      "Cut Loss 11.4697 1162.8924042960311 0 0\n",
      "Close Buy 12.2 1162.8924042960311 0 0\n",
      "Open Buy 13.6 1161.8924042960311 1 0\n",
      "Open Sell 13.5 1159.8924042960311 1 2\n",
      "Open Buy 13.6 1154.8924042960311 5 2\n",
      "Open Sell 13.4697 1144.8924042960311 5 10\n",
      "Cut Loss 13.4863 1185.8319482042223 0 0\n",
      "Open Buy 13.0 1184.8319482042223 1 0\n",
      "Close Buy 13.5994 1185.87805589653 0 0\n",
      "Open Buy 11.7111 1184.87805589653 1 0\n",
      "Open Sell 11.7392 1182.87805589653 1 2\n",
      "Open Buy 11.4595 1177.87805589653 5 2\n",
      "Open Sell 11.7482 1167.87805589653 5 10\n",
      "Cut Loss 11.9799 1220.8898393902648 0 0\n",
      "Open Buy 13.469000000000001 1219.8898393902648 1 0\n",
      "Open Sell 13.3501 1217.8898393902648 1 2\n",
      "Close Sell 12.7873 1337.974153365441 1 0\n",
      "Open Sell 13.4499 1336.974153365441 1 1\n",
      "Open Buy 13.3699 1333.974153365441 3 1\n",
      "Open Sell 13.49 1328.974153365441 3 5\n",
      "Open Buy 13.43 1317.974153365441 11 5\n",
      "Cut Loss 13.2459 1393.884618257009 0 0\n",
      "Close Buy 8.6205 1393.884618257009 0 0\n",
      "Open Buy 8.8585 1392.884618257009 1 0\n",
      "Close Buy 9.2249 1393.9259796613098 0 0\n",
      "Open Buy 9.4199 1392.9259796613098 1 0\n",
      "Open Sell 9.361 1390.9259796613098 1 2\n",
      "Open Buy 9.418 1385.9259796613098 5 2\n",
      "Close Buy 9.8002 1392.1692609623547 0 2\n",
      "Open Buy 9.4109 1391.1692609623547 1 2\n",
      "Close Buy 9.81 1392.2116692336147 0 2\n",
      "Open Buy 8.2791 1391.2116692336147 1 2\n",
      "Open Sell 9.349 1387.2116692336147 1 4\n",
      "Open Buy 9.4043 1382.2116692336147 5 4\n",
      "Open Sell 9.361 1370.2116692336147 5 12\n",
      "Cut Loss 9.38 1443.2900437843844 0 0\n",
      "Open Buy 9.661 1442.2900437843844 1 0\n",
      "Open Sell 9.6 1440.2900437843844 1 2\n",
      "Open Buy 9.6598 1435.2900437843844 5 2\n",
      "Open Sell 9.5693 1425.2900437843844 5 10\n",
      "Cut Loss 9.5372 1516.260398611877 0 0\n",
      "Open Buy 9.52 1515.260398611877 1 0\n",
      "Close Buy 9.9213 1516.3025519732216 0 0\n",
      "Open Buy 9.92 1515.3025519732216 1 0\n",
      "Open Sell 9.8497 1513.3025519732216 1 2\n",
      "Open Buy 9.902999999999999 1508.3025519732216 5 2\n",
      "Open Sell 9.823 1498.3025519732216 5 10\n",
      "Cut Loss 9.8187 1601.2604495093124 0 0\n",
      "Open Buy 9.68 1600.2604495093124 1 0\n",
      "Open Sell 9.61 1598.2604495093124 1 2\n",
      "Open Buy 9.677 1593.2604495093124 5 2\n",
      "Close Buy 10.07 1599.5037975647253 0 2\n",
      "Open Buy 8.2791 1598.5037975647253 1 2\n",
      "Open Sell 9.6262 1594.5037975647253 1 4\n",
      "Open Buy 9.6596 1589.5037975647253 5 4\n",
      "Open Sell 9.6 1577.5037975647253 5 12\n",
      "Cut Loss 9.62 1692.6207570072852 0 0\n",
      "Open Buy 9.52 1691.6207570072852 1 0\n",
      "Close Buy 9.9213 1692.6629103686298 0 0\n",
      "Open Buy 9.92 1691.6629103686298 1 0\n",
      "Open Sell 9.8497 1689.6629103686298 1 2\n",
      "Open Buy 9.902999999999999 1684.6629103686298 5 2\n",
      "Open Sell 9.823 1674.6629103686298 5 10\n",
      "Cut Loss 9.8187 1807.6208079047206 0 0\n",
      "Open Buy 9.68 1806.6208079047206 1 0\n",
      "Open Sell 9.61 1804.6208079047206 1 2\n",
      "Open Buy 9.677 1799.6208079047206 5 2\n",
      "Close Buy 10.07 1805.8641559601335 0 2\n",
      "Open Buy 9.6666 1804.8641559601335 1 2\n",
      "Open Sell 9.62 1800.8641559601335 1 4\n",
      "Open Buy 9.6601 1795.8641559601335 5 4\n",
      "Open Sell 9.5989 1783.8641559601335 5 12\n",
      "Cut Loss 9.51 1928.9479525760698 0 0\n",
      "Open Buy 9.6 1927.9479525760698 1 0\n",
      "Open Sell 9.551 1925.9479525760698 1 2\n",
      "Open Buy 9.6 1920.9479525760698 5 2\n",
      "Open Sell 9.515 1910.9479525760698 5 10\n",
      "Cut Loss 9.5232 2073.8971559844063 0 0\n",
      "Open Buy 9.5149 2072.8971559844063 1 0\n",
      "Open Sell 9.4201 2070.8971559844063 1 2\n",
      "Close Sell 9.0357 2410.97876870614 1 0\n",
      "Open Sell 9.43 2409.97876870614 1 1\n",
      "Close Sell 9.0303 2753.021154708261 1 0\n",
      "Open Sell 9.43 2752.021154708261 1 1\n",
      "Open Buy 9.512 2749.021154708261 3 1\n",
      "Close Buy 9.922 2753.1932505789478 0 1\n",
      "Open Buy 9.4701 2752.1932505789478 1 1\n",
      "Close Buy 9.9 2753.2386460869147 0 1\n",
      "Open Buy 9.51 2752.2386460869147 1 1\n",
      "Open Sell 9.4299 2749.2386460869147 1 3\n",
      "Open Buy 9.5 2744.2386460869147 5 3\n",
      "Open Sell 9.4472 2733.2386460869147 5 11\n",
      "Cut Loss 9.4362 2911.20745317578 0 0\n",
      "Open Buy 9.4232 2910.20745317578 1 0\n",
      "Open Sell 9.35 2908.20745317578 1 2\n",
      "Open Buy 9.4222 2903.20745317578 5 2\n",
      "Close Buy 9.804 2909.450470686457 0 2\n",
      "Open Buy 9.4082 2908.450470686457 1 2\n",
      "Open Sell 9.3333 2904.450470686457 1 4\n",
      "Close Sell 8.9515 3284.6993404839864 1 0\n",
      "Open Sell 9.3305 3283.6993404839864 1 1\n",
      "Open Buy 9.4108 3280.6993404839864 3 1\n",
      "Open Sell 9.3339 3275.6993404839864 3 5\n",
      "Open Buy 9.42 3264.6993404839864 11 5\n",
      "Cut Loss 9.408 3472.6364137840924 0 0\n",
      "2472.6364137840924\n"
     ]
    }
   ],
   "source": [
    "simulation(df)"
   ]
  },
  {
   "cell_type": "code",
   "execution_count": null,
   "metadata": {},
   "outputs": [],
   "source": []
  }
 ]
}
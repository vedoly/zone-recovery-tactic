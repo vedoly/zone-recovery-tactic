{
 "metadata": {
  "language_info": {
   "codemirror_mode": {
    "name": "ipython",
    "version": 3
   },
   "file_extension": ".py",
   "mimetype": "text/x-python",
   "name": "python",
   "nbconvert_exporter": "python",
   "pygments_lexer": "ipython3",
   "version": "3.8.5-final"
  },
  "orig_nbformat": 2,
  "kernelspec": {
   "name": "python3",
   "display_name": "Python 3",
   "language": "python"
  }
 },
 "nbformat": 4,
 "nbformat_minor": 2,
 "cells": [
  {
   "cell_type": "code",
   "execution_count": 1,
   "metadata": {},
   "outputs": [],
   "source": [
    "import pandas as pd\n",
    "from zone_recovery.zone import *"
   ]
  },
  {
   "cell_type": "code",
   "execution_count": 2,
   "metadata": {},
   "outputs": [],
   "source": [
    "test = Zone(1,2,3,4)"
   ]
  },
  {
   "cell_type": "code",
   "execution_count": 3,
   "metadata": {},
   "outputs": [],
   "source": [
    "df  = pd.read_csv('processed_data/BNBUSTD_2018_Processed.csv')"
   ]
  },
  {
   "cell_type": "code",
   "execution_count": 4,
   "metadata": {},
   "outputs": [
    {
     "output_type": "execute_result",
     "data": {
      "text/plain": [
       "(10, 8.3959, 10)"
      ]
     },
     "metadata": {},
     "execution_count": 4
    }
   ],
   "source": [
    "test.calculateProfit(10,df,10)"
   ]
  },
  {
   "cell_type": "code",
   "execution_count": 5,
   "metadata": {},
   "outputs": [
    {
     "output_type": "execute_result",
     "data": {
      "text/plain": [
       "        Unnamed: 0   Price  Year  Month  Day  Hour  Minute\n",
       "0                0  8.3959  2018      1    1     0       0\n",
       "1                1  8.3693  2018      1    1     0       1\n",
       "2                2  8.3500  2018      1    1     0       2\n",
       "3                3  8.3010  2018      1    1     0       3\n",
       "4                4  8.3147  2018      1    1     0       4\n",
       "...            ...     ...   ...    ...  ...   ...     ...\n",
       "525595      525595  6.1214  2018     12   31    23      55\n",
       "525596      525596  6.1211  2018     12   31    23      56\n",
       "525597      525597  6.1153  2018     12   31    23      57\n",
       "525598      525598  6.1224  2018     12   31    23      58\n",
       "525599      525599  6.1202  2018     12   31    23      59\n",
       "\n",
       "[525600 rows x 7 columns]"
      ],
      "text/html": "<div>\n<style scoped>\n    .dataframe tbody tr th:only-of-type {\n        vertical-align: middle;\n    }\n\n    .dataframe tbody tr th {\n        vertical-align: top;\n    }\n\n    .dataframe thead th {\n        text-align: right;\n    }\n</style>\n<table border=\"1\" class=\"dataframe\">\n  <thead>\n    <tr style=\"text-align: right;\">\n      <th></th>\n      <th>Unnamed: 0</th>\n      <th>Price</th>\n      <th>Year</th>\n      <th>Month</th>\n      <th>Day</th>\n      <th>Hour</th>\n      <th>Minute</th>\n    </tr>\n  </thead>\n  <tbody>\n    <tr>\n      <th>0</th>\n      <td>0</td>\n      <td>8.3959</td>\n      <td>2018</td>\n      <td>1</td>\n      <td>1</td>\n      <td>0</td>\n      <td>0</td>\n    </tr>\n    <tr>\n      <th>1</th>\n      <td>1</td>\n      <td>8.3693</td>\n      <td>2018</td>\n      <td>1</td>\n      <td>1</td>\n      <td>0</td>\n      <td>1</td>\n    </tr>\n    <tr>\n      <th>2</th>\n      <td>2</td>\n      <td>8.3500</td>\n      <td>2018</td>\n      <td>1</td>\n      <td>1</td>\n      <td>0</td>\n      <td>2</td>\n    </tr>\n    <tr>\n      <th>3</th>\n      <td>3</td>\n      <td>8.3010</td>\n      <td>2018</td>\n      <td>1</td>\n      <td>1</td>\n      <td>0</td>\n      <td>3</td>\n    </tr>\n    <tr>\n      <th>4</th>\n      <td>4</td>\n      <td>8.3147</td>\n      <td>2018</td>\n      <td>1</td>\n      <td>1</td>\n      <td>0</td>\n      <td>4</td>\n    </tr>\n    <tr>\n      <th>...</th>\n      <td>...</td>\n      <td>...</td>\n      <td>...</td>\n      <td>...</td>\n      <td>...</td>\n      <td>...</td>\n      <td>...</td>\n    </tr>\n    <tr>\n      <th>525595</th>\n      <td>525595</td>\n      <td>6.1214</td>\n      <td>2018</td>\n      <td>12</td>\n      <td>31</td>\n      <td>23</td>\n      <td>55</td>\n    </tr>\n    <tr>\n      <th>525596</th>\n      <td>525596</td>\n      <td>6.1211</td>\n      <td>2018</td>\n      <td>12</td>\n      <td>31</td>\n      <td>23</td>\n      <td>56</td>\n    </tr>\n    <tr>\n      <th>525597</th>\n      <td>525597</td>\n      <td>6.1153</td>\n      <td>2018</td>\n      <td>12</td>\n      <td>31</td>\n      <td>23</td>\n      <td>57</td>\n    </tr>\n    <tr>\n      <th>525598</th>\n      <td>525598</td>\n      <td>6.1224</td>\n      <td>2018</td>\n      <td>12</td>\n      <td>31</td>\n      <td>23</td>\n      <td>58</td>\n    </tr>\n    <tr>\n      <th>525599</th>\n      <td>525599</td>\n      <td>6.1202</td>\n      <td>2018</td>\n      <td>12</td>\n      <td>31</td>\n      <td>23</td>\n      <td>59</td>\n    </tr>\n  </tbody>\n</table>\n<p>525600 rows × 7 columns</p>\n</div>"
     },
     "metadata": {},
     "execution_count": 5
    }
   ],
   "source": [
    "df"
   ]
  },
  {
   "cell_type": "code",
   "execution_count": 8,
   "metadata": {},
   "outputs": [
    {
     "output_type": "stream",
     "name": "stdout",
     "text": [
      "0\n1\n2\n3\n4\n5\n6\n7\n8\n9\n"
     ]
    }
   ],
   "source": [
    "for i,row in df[0:10].iterrows():\n",
    "    print(i)"
   ]
  },
  {
   "cell_type": "code",
   "execution_count": null,
   "metadata": {},
   "outputs": [],
   "source": []
  }
 ]
}